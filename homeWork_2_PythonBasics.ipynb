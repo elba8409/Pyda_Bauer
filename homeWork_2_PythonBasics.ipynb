{
 "cells": [
  {
   "cell_type": "markdown",
   "metadata": {},
   "source": [
    "### Задание 1. \n",
    "Даны 2 строки: long_phrase и short_phrase. Напишите код, который проверяет действительно ли длинная фраза long_phrase длиннее короткой short_phrase. И выводит True или False в зависимости от результата сравнения."
   ]
  },
  {
   "cell_type": "code",
   "execution_count": null,
   "metadata": {},
   "outputs": [],
   "source": [
    "# long_phrase = 'Насколько проще было бы писать программы, если бы не заказчики'\n",
    "short_phrase = '640Кб должно хватить для любых задач. Билл Гейтс (по легенде)'"
   ]
  },
  {
   "cell_type": "code",
   "execution_count": 12,
   "metadata": {},
   "outputs": [
    {
     "data": {
      "text/plain": [
       "True"
      ]
     },
     "execution_count": 12,
     "metadata": {},
     "output_type": "execute_result"
    }
   ],
   "source": [
    "len('Насколько проще было бы писать программы, если бы не заказчики') > len('640Кб должно хватить для любых задач. Билл Гейтс (по легенде)')"
   ]
  },
  {
   "cell_type": "markdown",
   "metadata": {},
   "source": [
    "### Задание 2. \n",
    "Дано значение объема файла в байтах (в мегабайте 2^20 байт). Напишите перевод этого значения в мегабайты в формате: \"Объем файла равен 213.68Mb\"."
   ]
  },
  {
   "cell_type": "code",
   "execution_count": 28,
   "metadata": {},
   "outputs": [
    {
     "name": "stdout",
     "output_type": "stream",
     "text": [
      "Объем файла равен  213.68 Mb\n"
     ]
    }
   ],
   "source": [
    "x = 213.68\n",
    "y = x * (2 ** 20)\n",
    "x = y / (2 ** 20)\n",
    "print( \"Объем файла равен \", x , \"Mb\")\n"
   ]
  },
  {
   "cell_type": "markdown",
   "metadata": {},
   "source": [
    "### Задание 3.\n",
    "Разработать приложение для определения знака зодиака по дате рождения."
   ]
  },
  {
   "cell_type": "code",
   "execution_count": 21,
   "metadata": {
    "scrolled": true
   },
   "outputs": [
    {
     "name": "stdout",
     "output_type": "stream",
     "text": [
      "Введите месяцапрель\n",
      "Введите число30\n",
      "телец\n"
     ]
    }
   ],
   "source": [
    "month = input('Введите месяц')\n",
    "number = int(input('Введите число'))\n",
    "if (month == 'февраль')  and (20 <= number <= 29) or (month == 'март')  and (1 <= number <= 20):\n",
    "    print( 'рыбы' )\n",
    "elif month == 'март' and (21 <= number <= 31) or (month == 'апрель')  and (1 <= number <= 20):\n",
    "        print( 'овен' )\n",
    "elif month == 'апрель' and (21 <= number <= 30) or (month == 'май')  and (1 <= number <= 21):\n",
    "        print( 'телец' )\n",
    "elif month == 'май' and (22 <= number <= 31) or (month == 'июнь')  and (1 <= number <= 21):\n",
    "        print( 'близнецы' )\n",
    "elif month == 'июнь' and (22 <= number <= 30) or (month == 'июль')  and (1 <= number <= 23):\n",
    "        print( 'рак' )\n",
    "elif month == 'июль' and (24 <= number <= 31) or (month == 'август')  and (1 <= number <= 23):\n",
    "        print( 'лев' )\n",
    "elif month == 'август' and (24 <= number <= 31) or (month == 'сентябрь')  and (1 <= number <= 23):\n",
    "        print( 'дева' )        \n",
    "elif month == 'сентябрь' and (24 <= number <= 30) or (month == 'октябрь')  and (1 <= number <= 23):\n",
    "        print( 'весы' )        \n",
    "elif month == 'октябрь' and (24 <= number <= 31) or (month == 'ноябрь')  and (1 <= number <= 22):\n",
    "        print( 'скорпион' )        \n",
    "elif month == 'ноябрь' and (23 <= number <= 31) or (month == 'декабрь')  and (1 <= number <= 21):\n",
    "        print( 'стрелец' )\n",
    "elif month == 'декабрь' and (22 <= number <= 31) or (month == 'январь')  and (1 <= number <= 20):\n",
    "        print( 'козерог' )        \n",
    "elif month == 'январь' and (21 <= number <= 31) or (month == 'февраль')  and (1 <= number <= 19):\n",
    "        print( 'водолей' )       \n",
    "else:\n",
    "    print( 'знака зодиака не определен' )            "
   ]
  },
  {
   "cell_type": "markdown",
   "metadata": {},
   "source": [
    "###Задание 4.\n",
    "Нужно разработать приложение для финансового планирования. Приложение учитывает сколько уходит на ипотеку, \"на жизнь\" и сколько нужно отложить на пенсию."
   ]
  },
  {
   "cell_type": "code",
   "execution_count": null,
   "metadata": {},
   "outputs": [],
   "source": [
    "wages = int ( input( \"Ваша зароботная плата в месяц\" ) )\n",
    "mortgage_peocent = int ( input( \"Сколько процентов уходит на ипотеку\" ) )\n",
    "life_procent = int ( input( \"Сколько процентов уходит на жизнь\" ) )\n",
    "prize = int ( input( \"Количество премий за год\" ) )\n",
    "mortgage = wages * mortgage_peocent /100 \n",
    "life = wages * life_procent /100 \n",
    "year_prize = prize * (wages * 55 / 100 )\n",
    "pension = (wages - mortgage - life) * 12 + year_prize\n",
    "print( \"Ипотека:\", mortgage, \"Пенсия:\", pension )"
   ]
  },
  {
   "cell_type": "code",
   "execution_count": null,
   "metadata": {},
   "outputs": [],
   "source": [
    "month = input('Введите месяц')\n",
    "number = int(input('Введите число'))\n",
    "if month == 'март'  and number == 19:\n",
    "    print( 'рыба' )\n",
    "else:\n",
    "    print( 'нет знака зодиака' )"
   ]
  },
  {
   "cell_type": "code",
   "execution_count": null,
   "metadata": {},
   "outputs": [],
   "source": []
  }
 ],
 "metadata": {
  "kernelspec": {
   "display_name": "Python 3",
   "language": "python",
   "name": "python3"
  },
  "language_info": {
   "codemirror_mode": {
    "name": "ipython",
    "version": 3
   },
   "file_extension": ".py",
   "mimetype": "text/x-python",
   "name": "python",
   "nbconvert_exporter": "python",
   "pygments_lexer": "ipython3",
   "version": "3.7.4"
  }
 },
 "nbformat": 4,
 "nbformat_minor": 2
}
